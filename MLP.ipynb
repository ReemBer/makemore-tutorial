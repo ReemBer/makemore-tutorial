{
 "cells": [
  {
   "cell_type": "code",
   "execution_count": 80,
   "id": "5a59db50",
   "metadata": {},
   "outputs": [],
   "source": [
    "import torch\n",
    "import torch.nn.functional as F\n",
    "import numpy as np\n",
    "import matplotlib.pyplot as plt\n",
    "\n",
    "%matplotlib inline"
   ]
  },
  {
   "cell_type": "code",
   "execution_count": 120,
   "id": "bcb23346",
   "metadata": {},
   "outputs": [
    {
     "data": {
      "text/plain": [
       "'cuda'"
      ]
     },
     "execution_count": 120,
     "metadata": {},
     "output_type": "execute_result"
    }
   ],
   "source": [
    "device = 'cuda' if torch.cuda.is_available() else 'cpu'\n",
    "device"
   ]
  },
  {
   "cell_type": "markdown",
   "id": "b59abb1f",
   "metadata": {},
   "source": [
    "### dataset preparation\n",
    "\n",
    "The token we work with is a single character (for simplicity).\n",
    "Our model will train to predict next token given previous context of 3 tokens (3-grams)"
   ]
  },
  {
   "cell_type": "code",
   "execution_count": 55,
   "id": "e50ee4bc",
   "metadata": {},
   "outputs": [
    {
     "name": "stdout",
     "output_type": "stream",
     "text": [
      "names:\n",
      "emma\n",
      "olivia\n",
      "ava\n",
      "isabella\n",
      "sophia\n",
      "total names count: 32033\n",
      "vocab=['.', 'a', 'b', 'c', 'd', 'e', 'f', 'g', 'h', 'i', 'j', 'k', 'l', 'm', 'n', 'o', 'p', 'q', 'r', 's', 't', 'u', 'v', 'w', 'x', 'y', 'z']\n",
      "vocab_size=27\n",
      "[22, 12, 1, 4] ['v', 'l', 'a', 'd']\n",
      "X.shape=torch.Size([228146, 3]), y.shape=torch.Size([228146])\n",
      "... => e\n",
      "..e => m\n",
      ".em => m\n",
      "emm => a\n",
      "mma => .\n",
      "... => o\n",
      "..o => l\n",
      ".ol => i\n",
      "oli => v\n",
      "liv => i\n",
      "ivi => a\n",
      "via => .\n",
      "... => a\n",
      "..a => v\n",
      ".av => a\n",
      "ava => .\n",
      "... => i\n",
      "..i => s\n",
      ".is => a\n",
      "isa => b\n",
      "sab => e\n",
      "abe => l\n",
      "bel => l\n",
      "ell => a\n",
      "lla => .\n",
      "train_X.shape=torch.Size([182516, 3]), val_X.shape=torch.Size([45630, 3]), train_y.shape=torch.Size([182516]), val_y.shape=torch.Size([45630])\n"
     ]
    }
   ],
   "source": [
    "# read names\n",
    "with open(\"names.txt\", \"r\") as fnames:\n",
    "    names = fnames.read().splitlines()\n",
    "names_cnt = len(names)\n",
    "print('names:')\n",
    "for name in names[:5]:\n",
    "    print(name)\n",
    "print(f'total names count: {names_cnt}')\n",
    "\n",
    "# building vocabulary\n",
    "special_tokens = ['.'] # represents the start and the end of each name.\n",
    "vocab = special_tokens + sorted(list(set(''.join(names))))\n",
    "vocab_size = len(vocab)\n",
    "print(f'{vocab=}')\n",
    "print(f'{vocab_size=}')\n",
    "\n",
    "# mapping from chars to token number and vice-versa\n",
    "ctoi = {c:i for i,c in enumerate(vocab)}\n",
    "itoc = vocab\n",
    "encode = lambda char_seq: [ctoi[c] for c in char_seq]\n",
    "decode = lambda token_num_seq: [itoc[t] for t in token_num_seq]\n",
    "print(encode(\"vlad\"), decode([22,12,1,4]))\n",
    "\n",
    "# prepare dataset for NN training and validation\n",
    "block_size = 3 # represents the length of context\n",
    "X, y = [], []\n",
    "for name in names:\n",
    "    block = torch.zeros(block_size).to(torch.int64)\n",
    "    for c in name + '.':\n",
    "        ix = ctoi[c]\n",
    "        X.append(block)\n",
    "        y.append(ix)\n",
    "        block = block.roll(-1)\n",
    "        block[-1] = ix\n",
    "X, y = torch.stack(X), torch.tensor(y)\n",
    "print(f'{X.shape=}, {y.shape=}')\n",
    "for i in range(25):\n",
    "    print(f'{\"\".join(decode(X[i]))} => {itoc[y[i]]}')\n",
    "\n",
    "#train/validation split\n",
    "train_size = int(0.8*X.shape[0])\n",
    "val_size   = X.shape[0] - train_size\n",
    "train_ids, val_ids = torch.arange(X.shape[0]).split([train_size, val_size])\n",
    "train_X, val_X = X[train_ids], X[val_ids]\n",
    "train_y, val_y = y[train_ids], y[val_ids]\n",
    "print(f'{train_X.shape=}, {val_X.shape=}, {train_y.shape=}, {val_y.shape=}')"
   ]
  },
  {
   "cell_type": "markdown",
   "id": "b474f985",
   "metadata": {},
   "source": [
    "### Define training loop and Evaluation method"
   ]
  },
  {
   "cell_type": "code",
   "execution_count": 189,
   "id": "39d15d42",
   "metadata": {},
   "outputs": [],
   "source": [
    "def train(model, train_X, train_y, val_X, val_y, epoches, batch_size, lr=1e-3):\n",
    "    train_loss, val_loss = [], []\n",
    "    for epoch in range(epoches):\n",
    "        ids = torch.randperm(train_X.shape[0])\n",
    "        cur_losses = []\n",
    "        for batch_ids_lb in range(0, train_X.shape[0], batch_size):\n",
    "            batch_ids = ids[batch_ids_lb:batch_ids_lb+batch_size]\n",
    "            mini_batch_X = train_X[batch_ids].to(device)\n",
    "            mini_batch_y = train_y[batch_ids].to(device)\n",
    "            logits = model(mini_batch_X)\n",
    "            loss = F.cross_entropy(logits, mini_batch_y)\n",
    "            cur_losses.append(loss.item())\n",
    "            model.zero_grad()\n",
    "            loss.backward()\n",
    "            model.optimize(lr = lr)\n",
    "        cur_avg_train_loss = sum(cur_losses) / len(cur_losses)\n",
    "        cur_val_loss = F.cross_entropy(model(val_X), val_y).item()\n",
    "        print(f'{epoch=}: {cur_avg_train_loss=}, {cur_val_loss=}')\n",
    "        train_loss.append(cur_avg_train_loss)\n",
    "        val_loss.append(cur_val_loss)\n",
    "    return train_loss, val_loss\n",
    "\n",
    "\n",
    "def evaluate(model, max_new_tokens=100):\n",
    "    result = []\n",
    "    for t in range(max_new_tokens):\n",
    "        context = torch.zeros((1, block_size)).to(torch.int64)\n",
    "        next_token = torch.multinomial(F.softmax(model(context), dim=1), 1)\n",
    "        result.append(next_token)\n",
    "        if next_token == 0:\n",
    "            break\n",
    "        context.roll(-1, dims=1)\n",
    "        context[0, -1] = next_token\n",
    "    return result"
   ]
  },
  {
   "cell_type": "markdown",
   "id": "02870b4d",
   "metadata": {},
   "source": [
    "### Build multi-layer perceptron (MLP) model\n",
    "\n",
    "here we are building something like \"Bengio et al. 2003 A Neural Probabilistic Language Model\" paper"
   ]
  },
  {
   "cell_type": "code",
   "execution_count": 194,
   "id": "06d76a9a",
   "metadata": {},
   "outputs": [
    {
     "data": {
      "text/plain": [
       "torch.Size([4, 27])"
      ]
     },
     "execution_count": 194,
     "metadata": {},
     "output_type": "execute_result"
    }
   ],
   "source": [
    "class MLP:\n",
    "    def __init__(self, vocab_size, block_size, emb_size, hidden_size, device='cpu'):\n",
    "        self.emb = torch.randn((vocab_size, emb_size), requires_grad = True, device = device)\n",
    "        self.W1 = torch.randn((block_size*emb_size, hidden_size), requires_grad = True, device = device)\n",
    "        self.b1 = torch.randn(hidden_size, requires_grad = True, device = device)\n",
    "        self.W2 = torch.randn((hidden_size, vocab_size), requires_grad = True, device = device)\n",
    "        self.b2 = torch.randn(vocab_size, requires_grad = True, device = device)\n",
    "    \n",
    "    def forward(self, mini_batch_X):\n",
    "        embeddings  = self.emb[mini_batch_X]\n",
    "        concat_embs = embeddings.view(mini_batch_X.shape[0], -1)\n",
    "        out1 = concat_embs @ self.W1 + self.b1\n",
    "        out1 = F.tanh(out1)\n",
    "        out2 = out1 @ self.W2 + self.b2\n",
    "        return out2\n",
    "\n",
    "    def zero_grad(self):\n",
    "        self.emb.grad = None\n",
    "        self.W1.grad = None\n",
    "        self.b1.grad = None\n",
    "        self.W2.grad = None\n",
    "        self.b2.grad = None\n",
    "\n",
    "    def optimize(self, lr):\n",
    "        self.b2.data -= lr*self.b2.grad\n",
    "        self.W2.data -= lr*self.W2.grad\n",
    "        self.b1.data -= lr*self.b1.grad\n",
    "        self.W1.data -= lr*self.W1.grad\n",
    "        self.emb.data -= lr*self.emb.grad\n",
    "    \n",
    "    def __call__(self, mini_batch_X):\n",
    "        return self.forward(mini_batch_X)\n",
    "\n",
    "\n",
    "model = MLP(vocab_size, block_size, emb_size=4, hidden_size=128, device=device)\n",
    "model(torch.arange(12).reshape(4,3)).shape"
   ]
  },
  {
   "cell_type": "code",
   "execution_count": 195,
   "id": "e2cc9072",
   "metadata": {},
   "outputs": [
    {
     "name": "stdout",
     "output_type": "stream",
     "text": [
      "epoch=0: cur_avg_train_loss=2.8166697754055723, cur_val_loss=2.6966776847839355\n",
      "epoch=1: cur_avg_train_loss=2.471682455751204, cur_val_loss=2.655106544494629\n",
      "epoch=2: cur_avg_train_loss=2.4186224920510577, cur_val_loss=2.6798694133758545\n",
      "epoch=3: cur_avg_train_loss=2.3885644882875607, cur_val_loss=2.624465227127075\n",
      "epoch=4: cur_avg_train_loss=2.3651046496704953, cur_val_loss=2.627453088760376\n",
      "epoch=5: cur_avg_train_loss=2.3478816740141677, cur_val_loss=2.6107802391052246\n",
      "epoch=6: cur_avg_train_loss=2.3308675099388916, cur_val_loss=2.6195929050445557\n",
      "epoch=7: cur_avg_train_loss=2.3210286826814874, cur_val_loss=2.5680172443389893\n",
      "epoch=8: cur_avg_train_loss=2.308849035314223, cur_val_loss=2.641477584838867\n",
      "epoch=9: cur_avg_train_loss=2.300419645611233, cur_val_loss=2.5558650493621826\n",
      "epoch=10: cur_avg_train_loss=2.290353851557447, cur_val_loss=2.589059352874756\n",
      "epoch=11: cur_avg_train_loss=2.283662510808521, cur_val_loss=2.5418784618377686\n",
      "epoch=12: cur_avg_train_loss=2.277193889063672, cur_val_loss=2.6048409938812256\n",
      "epoch=13: cur_avg_train_loss=2.271928900463551, cur_val_loss=2.658834218978882\n",
      "epoch=14: cur_avg_train_loss=2.26682254187188, cur_val_loss=2.554489850997925\n",
      "epoch=15: cur_avg_train_loss=2.2603799973263143, cur_val_loss=2.572997570037842\n",
      "epoch=16: cur_avg_train_loss=2.255821855150968, cur_val_loss=2.5692455768585205\n",
      "epoch=17: cur_avg_train_loss=2.251888745922862, cur_val_loss=2.580994129180908\n",
      "epoch=18: cur_avg_train_loss=2.248532568819058, cur_val_loss=2.5728604793548584\n",
      "epoch=19: cur_avg_train_loss=2.2452785221841527, cur_val_loss=2.522392511367798\n",
      "epoch=20: cur_avg_train_loss=2.2416922420179692, cur_val_loss=2.549299478530884\n",
      "epoch=21: cur_avg_train_loss=2.2391072633933553, cur_val_loss=2.5200154781341553\n",
      "epoch=22: cur_avg_train_loss=2.234351429894964, cur_val_loss=2.5430593490600586\n",
      "epoch=23: cur_avg_train_loss=2.2333521540126493, cur_val_loss=2.495392322540283\n",
      "epoch=24: cur_avg_train_loss=2.2311793069811054, cur_val_loss=2.5893256664276123\n",
      "epoch=25: cur_avg_train_loss=2.2282822582698305, cur_val_loss=2.5056986808776855\n",
      "epoch=26: cur_avg_train_loss=2.224649539481206, cur_val_loss=2.526467800140381\n",
      "epoch=27: cur_avg_train_loss=2.223326424207293, cur_val_loss=2.470693826675415\n",
      "epoch=28: cur_avg_train_loss=2.2200131715179996, cur_val_loss=2.499289035797119\n",
      "epoch=29: cur_avg_train_loss=2.218714622260812, cur_val_loss=2.495279550552368\n",
      "epoch=30: cur_avg_train_loss=2.2167190988384826, cur_val_loss=2.6133172512054443\n",
      "epoch=31: cur_avg_train_loss=2.214760095069151, cur_val_loss=2.4980249404907227\n",
      "epoch=32: cur_avg_train_loss=2.2141295658714473, cur_val_loss=2.5158519744873047\n",
      "epoch=33: cur_avg_train_loss=2.211447452491497, cur_val_loss=2.495082139968872\n",
      "epoch=34: cur_avg_train_loss=2.210224766487995, cur_val_loss=2.5100841522216797\n",
      "epoch=35: cur_avg_train_loss=2.208494946339689, cur_val_loss=2.500688076019287\n",
      "epoch=36: cur_avg_train_loss=2.2066009478306534, cur_val_loss=2.536316156387329\n",
      "epoch=37: cur_avg_train_loss=2.205758027408434, cur_val_loss=2.4904775619506836\n",
      "epoch=38: cur_avg_train_loss=2.2053293147102146, cur_val_loss=2.5133845806121826\n",
      "epoch=39: cur_avg_train_loss=2.201820645267131, cur_val_loss=2.5473921298980713\n"
     ]
    }
   ],
   "source": [
    "train_loss, val_loss = train(model, train_X, train_y, val_X.to(device), val_y.to(device), epoches=40, batch_size=32, lr=0.1)"
   ]
  },
  {
   "cell_type": "code",
   "execution_count": 199,
   "id": "45107f62",
   "metadata": {},
   "outputs": [
    {
     "data": {
      "text/plain": [
       "<matplotlib.legend.Legend at 0x7fa65c42a440>"
      ]
     },
     "execution_count": 199,
     "metadata": {},
     "output_type": "execute_result"
    },
    {
     "data": {
      "image/png": "[encoded data removed]",
      "text/plain": [
       "<Figure size 800x300 with 1 Axes>"
      ]
     },
     "metadata": {},
     "output_type": "display_data"
    }
   ],
   "source": [
    "plt.figure(figsize=(8,3))\n",
    "plt.plot(np.array(train_loss), label = 'train loss')\n",
    "plt.plot(np.array(val_loss), label = 'validation loss')\n",
    "plt.legend()"
   ]
  },
  {
   "cell_type": "code",
   "execution_count": 202,
   "id": "8c4f5667",
   "metadata": {},
   "outputs": [
    {
     "data": {
      "text/plain": [
       "'iaswmebhbaletglrljaknhclantaalapmbljaapajakrbgawpeakarlalraanhjladbjlltdwlsmkjdrdcxoaakascueaaaklaknaatlanccdraplmtklaltejlzrxtrkrzetclawlhgarkyloalrjplgjljehlaaajnrlkpagahrmajlcgnlaaiearlknysrrajrrpakeltaaheahabaljllaleehazjabjaklllsznpkcistklhatraazdwypaiptlhelaarfrizalaljelslmaaajlnkdlsaejketrerlhzkazlhnatlstkaaylrdnjlsljdraalakaknaalamcbltevrrektarsaeajjikrcdrcbxerbpkiatzjalrwpnwkrbnalrjezlaaakhjllaiablaleaaljjotkgrmareabllnbwrrshwpnrasaedhhmazorjsjaajtlaldkhjelaklefsaaskraemaljeecssatrlzrajzraehnanahjbjnnarhallmrtmazkzrakkrslhajnetjtikbshamaadirlecleerlzzstaaaajenajlaawjnilxkllblhcaazjtnahjckracelakzaledmnajrkmetjpkoclhzslkhlpznnalrlrazasrmephrodymhhazazajarmhaasralltkaaeagatjclageaebriaatazgokadahajljwclandeajdaclnllakjslrlleshtcjkeaaalezakmayavallrjlakjunrarlhlrvacftjaatafwbaeyflhwdakaeaeadljaarhbigrjeblalllwlajzgarapmaenkdmdlsrjrhrkmklntpilllzzjamamotalktrrehksearaalzkkakgnjlslaelaekjjljieckranaanltaaaslhclwcrzeaalwzceatkatzauadkgrakwaalarmakxrlltilisrahlramzaarlacvkkhkhltagaaa'"
      ]
     },
     "execution_count": 202,
     "metadata": {},
     "output_type": "execute_result"
    }
   ],
   "source": [
    "''.join(decode(evaluate(model, max_new_tokens=1000)))"
   ]
  },
  {
   "cell_type": "markdown",
   "id": "c97a90ba",
   "metadata": {},
   "source": [
    "### Scale-up the model"
   ]
  },
  {
   "cell_type": "code",
   "execution_count": 205,
   "id": "5310c174",
   "metadata": {},
   "outputs": [
    {
     "name": "stdout",
     "output_type": "stream",
     "text": [
      "epoch=0: cur_avg_train_loss=5.556377056228496, cur_val_loss=4.256535530090332\n",
      "epoch=1: cur_avg_train_loss=3.0423201698950932, cur_val_loss=3.5387446880340576\n",
      "epoch=2: cur_avg_train_loss=2.690418083508085, cur_val_loss=3.3897359371185303\n",
      "epoch=3: cur_avg_train_loss=2.558797419865369, cur_val_loss=3.1441245079040527\n",
      "epoch=4: cur_avg_train_loss=2.491626103726042, cur_val_loss=3.140530824661255\n",
      "epoch=5: cur_avg_train_loss=2.446767119317202, cur_val_loss=3.17584228515625\n",
      "epoch=6: cur_avg_train_loss=2.4204830183513035, cur_val_loss=2.9798583984375\n",
      "epoch=7: cur_avg_train_loss=2.399206429908018, cur_val_loss=2.9099321365356445\n",
      "epoch=8: cur_avg_train_loss=2.3844135340935386, cur_val_loss=3.08561110496521\n",
      "epoch=9: cur_avg_train_loss=2.372363463148663, cur_val_loss=2.90191650390625\n",
      "epoch=10: cur_avg_train_loss=2.3611336577615765, cur_val_loss=3.0318551063537598\n",
      "epoch=11: cur_avg_train_loss=2.353558826016009, cur_val_loss=2.9905223846435547\n",
      "epoch=12: cur_avg_train_loss=2.3428930055041803, cur_val_loss=2.8577136993408203\n",
      "epoch=13: cur_avg_train_loss=2.3392891134403198, cur_val_loss=2.8202080726623535\n",
      "epoch=14: cur_avg_train_loss=2.329707151939792, cur_val_loss=2.8989665508270264\n",
      "epoch=15: cur_avg_train_loss=2.3252986800160684, cur_val_loss=2.8434131145477295\n",
      "epoch=16: cur_avg_train_loss=2.3232263788309204, cur_val_loss=2.940877676010132\n",
      "epoch=17: cur_avg_train_loss=2.318136302986787, cur_val_loss=3.0808863639831543\n",
      "epoch=18: cur_avg_train_loss=2.3157937403397337, cur_val_loss=2.8068206310272217\n",
      "epoch=19: cur_avg_train_loss=2.313448128074951, cur_val_loss=2.95967698097229\n",
      "epoch=20: cur_avg_train_loss=2.309350928179345, cur_val_loss=2.845630645751953\n",
      "epoch=21: cur_avg_train_loss=2.3054034423192786, cur_val_loss=3.110034227371216\n",
      "epoch=22: cur_avg_train_loss=2.3025936601790606, cur_val_loss=2.8930530548095703\n",
      "epoch=23: cur_avg_train_loss=2.30513545868691, cur_val_loss=2.8782596588134766\n",
      "epoch=24: cur_avg_train_loss=2.302625569667756, cur_val_loss=2.7539098262786865\n",
      "epoch=25: cur_avg_train_loss=2.2971529038766656, cur_val_loss=2.8624231815338135\n",
      "epoch=26: cur_avg_train_loss=2.294299334183147, cur_val_loss=3.0675902366638184\n",
      "epoch=27: cur_avg_train_loss=2.297536332928282, cur_val_loss=2.8079428672790527\n",
      "epoch=28: cur_avg_train_loss=2.2901731965459913, cur_val_loss=3.0542330741882324\n",
      "epoch=29: cur_avg_train_loss=2.2915728203168593, cur_val_loss=2.8400466442108154\n",
      "epoch=30: cur_avg_train_loss=2.285867974872676, cur_val_loss=2.8421802520751953\n",
      "epoch=31: cur_avg_train_loss=2.2903039951352886, cur_val_loss=2.781461000442505\n",
      "epoch=32: cur_avg_train_loss=2.2851311792038267, cur_val_loss=3.047518491744995\n",
      "epoch=33: cur_avg_train_loss=2.281084313570701, cur_val_loss=2.9836604595184326\n",
      "epoch=34: cur_avg_train_loss=2.2840301106053014, cur_val_loss=2.786848306655884\n",
      "epoch=35: cur_avg_train_loss=2.2779491322028855, cur_val_loss=2.7807705402374268\n",
      "epoch=36: cur_avg_train_loss=2.2842739069988482, cur_val_loss=3.3346869945526123\n",
      "epoch=37: cur_avg_train_loss=2.2796750049437247, cur_val_loss=2.9016926288604736\n",
      "epoch=38: cur_avg_train_loss=2.2786423520904773, cur_val_loss=2.7918355464935303\n",
      "epoch=39: cur_avg_train_loss=2.279186272604435, cur_val_loss=2.8562514781951904\n"
     ]
    },
    {
     "data": {
      "text/plain": [
       "<matplotlib.legend.Legend at 0x7fa65c356950>"
      ]
     },
     "execution_count": 205,
     "metadata": {},
     "output_type": "execute_result"
    },
    {
     "data": {
      "image/png": "[encoded data removed]",
      "text/plain": [
       "<Figure size 800x300 with 1 Axes>"
      ]
     },
     "metadata": {},
     "output_type": "display_data"
    }
   ],
   "source": [
    "model384 = MLP(vocab_size, block_size, emb_size=32, hidden_size=384, device=device)\n",
    "train_loss, val_loss = train(model384, train_X, train_y, val_X.to(device), val_y.to(device), epoches=40, batch_size=32, lr=0.1)\n",
    "\n",
    "plt.figure(figsize=(8,3))\n",
    "plt.plot(np.array(train_loss), label = 'train loss')\n",
    "plt.plot(np.array(val_loss), label = 'validation loss')\n",
    "plt.legend()"
   ]
  },
  {
   "cell_type": "code",
   "execution_count": 207,
   "id": "6888a380",
   "metadata": {},
   "outputs": [
    {
     "data": {
      "text/plain": [
       "'jjlajlllellelklwttxlllalllacjlslcjtjedfltjakllmklaajlklljalyllhtlajaprscljlaatbnkatksjjajjlsclljjllljljjjljjdcccalajaaljllajkllcjallhlblajlabflkjaaljzlrajllaljjtmklljlfjljlamllllclsljjjlwzlalmjlllljllillajjlljallalekttllcaalajlvjlaktlllltjnljjfljllrlljjcallljajtllltlllaljlbjllllazlajelnjljlejaldjaljflnljeylzellnjlttxajljlrrllalajtjjaahljeljljkcnlmljjjijllljealalajjaallkljaltitnjlllerklbjanlyklyaelllllnlrlmzlqtlazjyhlthlahwjjljfjaljnlillaaahftjelfjalkalazcljtdjkljacjkajpltjtllysljlllfanlmrfjjrjlbalalplmlllalltuljllllkjlajjljjjaealbpjajajlzljlllllraallblaaejlklejljmrllrjlsltjjjlfkaaklljwanallzljtjsljjjljkaclljljjalljjjllijjlkalllllllunjzjamzljrdllllstakajcllcllrkjaljjjjllljltzlllllallljjjbllllljalplljwtlltlclallljlkallatljlajlajlaajemcdbjlaaaljpafljazdealvlalalakjkjllltllljjmljlljlljljvalajajlzllnnlldjxljaarlllallaalllalacpamltflczedlklllttljajlmabtjrlaitjkjllaaklrdmjlljnjhhjajjekkslmkljjllllaalllsalklehjaallilllfsljatjljjujtctjljlnkaylallmklldkjdakaljljajllckljlljjjlkjlftajlfzjlllkcatll'"
      ]
     },
     "execution_count": 207,
     "metadata": {},
     "output_type": "execute_result"
    }
   ],
   "source": [
    "''.join(decode(evaluate(model384, max_new_tokens=1000)))"
   ]
  },
  {
   "cell_type": "code",
   "execution_count": null,
   "id": "86db93da",
   "metadata": {},
   "outputs": [],
   "source": []
  }
 ],
 "metadata": {
  "kernelspec": {
   "display_name": "Python 3 (ipykernel)",
   "language": "python",
   "name": "python3"
  },
  "language_info": {
   "codemirror_mode": {
    "name": "ipython",
    "version": 3
   },
   "file_extension": ".py",
   "mimetype": "text/x-python",
   "name": "python",
   "nbconvert_exporter": "python",
   "pygments_lexer": "ipython3",
   "version": "3.10.6"
  }
 },
 "nbformat": 4,
 "nbformat_minor": 5
}
