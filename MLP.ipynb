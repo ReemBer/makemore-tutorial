{
 "cells": [
  {
   "cell_type": "code",
   "execution_count": 80,
   "id": "5a59db50",
   "metadata": {},
   "outputs": [],
   "source": [
    "import torch\n",
    "import torch.nn.functional as F\n",
    "import numpy as np\n",
    "import matplotlib.pyplot as plt\n",
    "\n",
    "%matplotlib inline"
   ]
  },
  {
   "cell_type": "code",
   "execution_count": 120,
   "id": "bcb23346",
   "metadata": {},
   "outputs": [
    {
     "data": {
      "text/plain": [
       "'cuda'"
      ]
     },
     "execution_count": 120,
     "metadata": {},
     "output_type": "execute_result"
    }
   ],
   "source": [
    "device = 'cuda' if torch.cuda.is_available() else 'cpu'\n",
    "device"
   ]
  },
  {
   "cell_type": "markdown",
   "id": "b59abb1f",
   "metadata": {},
   "source": [
    "### dataset preparation\n",
    "\n",
    "The token we work with is a single character (for simplicity).\n",
    "Our model will train to predict next token given previous context of 3 tokens (3-grams)"
   ]
  },
  {
   "cell_type": "code",
   "execution_count": 55,
   "id": "e50ee4bc",
   "metadata": {},
   "outputs": [
    {
     "name": "stdout",
     "output_type": "stream",
     "text": [
      "names:\n",
      "emma\n",
      "olivia\n",
      "ava\n",
      "isabella\n",
      "sophia\n",
      "total names count: 32033\n",
      "vocab=['.', 'a', 'b', 'c', 'd', 'e', 'f', 'g', 'h', 'i', 'j', 'k', 'l', 'm', 'n', 'o', 'p', 'q', 'r', 's', 't', 'u', 'v', 'w', 'x', 'y', 'z']\n",
      "vocab_size=27\n",
      "[22, 12, 1, 4] ['v', 'l', 'a', 'd']\n",
      "X.shape=torch.Size([228146, 3]), y.shape=torch.Size([228146])\n",
      "... => e\n",
      "..e => m\n",
      ".em => m\n",
      "emm => a\n",
      "mma => .\n",
      "... => o\n",
      "..o => l\n",
      ".ol => i\n",
      "oli => v\n",
      "liv => i\n",
      "ivi => a\n",
      "via => .\n",
      "... => a\n",
      "..a => v\n",
      ".av => a\n",
      "ava => .\n",
      "... => i\n",
      "..i => s\n",
      ".is => a\n",
      "isa => b\n",
      "sab => e\n",
      "abe => l\n",
      "bel => l\n",
      "ell => a\n",
      "lla => .\n",
      "train_X.shape=torch.Size([182516, 3]), val_X.shape=torch.Size([45630, 3]), train_y.shape=torch.Size([182516]), val_y.shape=torch.Size([45630])\n"
     ]
    }
   ],
   "source": [
    "# read names\n",
    "with open(\"names.txt\", \"r\") as fnames:\n",
    "    names = fnames.read().splitlines()\n",
    "names_cnt = len(names)\n",
    "print('names:')\n",
    "for name in names[:5]:\n",
    "    print(name)\n",
    "print(f'total names count: {names_cnt}')\n",
    "\n",
    "# building vocabulary\n",
    "special_tokens = ['.'] # represents the start and the end of each name.\n",
    "vocab = special_tokens + sorted(list(set(''.join(names))))\n",
    "vocab_size = len(vocab)\n",
    "print(f'{vocab=}')\n",
    "print(f'{vocab_size=}')\n",
    "\n",
    "# mapping from chars to token number and vice-versa\n",
    "ctoi = {c:i for i,c in enumerate(vocab)}\n",
    "itoc = vocab\n",
    "encode = lambda char_seq: [ctoi[c] for c in char_seq]\n",
    "decode = lambda token_num_seq: [itoc[t] for t in token_num_seq]\n",
    "print(encode(\"vlad\"), decode([22,12,1,4]))\n",
    "\n",
    "# prepare dataset for NN training and validation\n",
    "block_size = 3 # represents the length of context\n",
    "X, y = [], []\n",
    "for name in names:\n",
    "    block = torch.zeros(block_size).to(torch.int64)\n",
    "    for c in name + '.':\n",
    "        ix = ctoi[c]\n",
    "        X.append(block)\n",
    "        y.append(ix)\n",
    "        block = block.roll(-1)\n",
    "        block[-1] = ix\n",
    "X, y = torch.stack(X), torch.tensor(y)\n",
    "print(f'{X.shape=}, {y.shape=}')\n",
    "for i in range(25):\n",
    "    print(f'{\"\".join(decode(X[i]))} => {itoc[y[i]]}')\n",
    "\n",
    "train_size = int(0.8*X.shape[0])\n",
    "val_size   = X.shape[0] - train_size\n",
    "train_ids, val_ids = torch.arange(X.shape[0]).split([train_size, val_size])\n",
    "train_X, val_X = X[train_ids], X[val_ids]\n",
    "train_y, val_y = y[train_ids], y[val_ids]\n",
    "print(f'{train_X.shape=}, {val_X.shape=}, {train_y.shape=}, {val_y.shape=}')"
   ]
  },
  {
   "cell_type": "markdown",
   "id": "02870b4d",
   "metadata": {},
   "source": [
    "### Build multi-layer perceptron (MLP) model\n",
    "\n",
    "here we are building something like \"Bengio et al. 2003 A Neural Probabilistic Language Model\" paper"
   ]
  },
  {
   "cell_type": "code",
   "execution_count": 130,
   "id": "06d76a9a",
   "metadata": {},
   "outputs": [
    {
     "data": {
      "text/plain": [
       "torch.Size([4, 27])"
      ]
     },
     "execution_count": 130,
     "metadata": {},
     "output_type": "execute_result"
    }
   ],
   "source": [
    "class MLP:\n",
    "    def __init__(self, vocab_size, block_size, emb_size, hidden_size, device='cpu'):\n",
    "        self.emb = torch.randn((vocab_size, emb_size), requires_grad = True, device = device)\n",
    "        self.W1 = torch.randn((block_size*emb_size, hidden_size), requires_grad = True, device = device)\n",
    "        self.b1 = torch.randn(hidden_size, requires_grad = True, device = device)\n",
    "        self.W2 = torch.randn((hidden_size, vocab_size), requires_grad = True, device = device)\n",
    "        self.b2 = torch.randn(vocab_size, requires_grad = True, device = device)\n",
    "    \n",
    "    def forward(self, mini_batch_X):\n",
    "        embeddings  = self.emb[mini_batch_X]\n",
    "        concat_embs = embeddings.view(mini_batch_X.shape[0], -1)\n",
    "        out1 = concat_embs @ self.W1 + self.b1\n",
    "        out1 = F.tanh(out1)\n",
    "        out2 = out1 @ self.W2 + self.b2\n",
    "        return F.softmax(out2, dim=1)\n",
    "\n",
    "    def zero_grad(self):\n",
    "        self.emb.grad = None\n",
    "        self.W1.grad = None\n",
    "        self.b1.grad = None\n",
    "        self.W2.grad = None\n",
    "        self.b2.grad = None\n",
    "\n",
    "    def optimize(self, lr=1e-3):\n",
    "        self.b2.data -= lr*self.b2.grad\n",
    "        self.W2.data -= lr*self.W2.grad\n",
    "        self.b1.data -= lr*self.b1.grad\n",
    "        self.W1.data -= lr*self.W1.grad\n",
    "        self.emb.data -= lr*self.emb.grad\n",
    "    \n",
    "    def __call__(self, mini_batch_X):\n",
    "        return self.forward(mini_batch_X)\n",
    "\n",
    "\n",
    "model = MLP(vocab_size, block_size, emb_size=4, hidden_size=128, device=device)\n",
    "model(torch.arange(12).reshape(4,3)).shape"
   ]
  },
  {
   "cell_type": "code",
   "execution_count": 131,
   "id": "d7660b51",
   "metadata": {},
   "outputs": [],
   "source": [
    "def nll_loss(probs, y):\n",
    "    return -probs[torch.arange(probs.shape[0]), y.flatten()].log().mean()\n",
    "\n",
    "\n",
    "def train(model, train_X, train_y, val_X, val_y, epoches, batch_size):\n",
    "    train_loss, val_loss = [], []\n",
    "    for epoch in range(epoches):\n",
    "        ids = torch.randperm(train_X.shape[0])\n",
    "        cur_losses = []\n",
    "        for batch_ids_lb in range(0, train_X.shape[0], batch_size):\n",
    "            batch_ids = ids[batch_ids_lb:batch_ids_lb+batch_size]\n",
    "            mini_batch_X = train_X[batch_ids].to(device)\n",
    "            mini_batch_y = train_y[batch_ids].to(device)\n",
    "            probs = model(mini_batch_X)\n",
    "            loss = nll_loss(probs, mini_batch_y)\n",
    "            cur_losses.append(loss.item())\n",
    "            model.zero_grad()\n",
    "            loss.backward()\n",
    "            model.optimize()\n",
    "        cur_avg_train_loss = sum(cur_losses) / len(cur_losses)\n",
    "        cur_val_loss = nll_loss(model(val_X), val_y).item()\n",
    "        print(f'{epoch=}: {cur_avg_train_loss=}, {cur_val_loss=}')\n",
    "        train_loss.append(cur_avg_train_loss)\n",
    "        val_loss.append(cur_val_loss)\n",
    "    return train_loss, val_loss"
   ]
  },
  {
   "cell_type": "code",
   "execution_count": 132,
   "id": "e2cc9072",
   "metadata": {},
   "outputs": [
    {
     "name": "stdout",
     "output_type": "stream",
     "text": [
      "epoch=0: cur_avg_train_loss=10.17875754431956, cur_val_loss=7.464056491851807\n",
      "epoch=1: cur_avg_train_loss=5.1803663551055035, cur_val_loss=4.916943073272705\n",
      "epoch=2: cur_avg_train_loss=3.847466137390819, cur_val_loss=4.078091144561768\n",
      "epoch=3: cur_avg_train_loss=3.3623537420808516, cur_val_loss=3.682596445083618\n",
      "epoch=4: cur_avg_train_loss=3.1013157795304838, cur_val_loss=3.418793201446533\n",
      "epoch=5: cur_avg_train_loss=2.9258292138283917, cur_val_loss=3.2338552474975586\n",
      "epoch=6: cur_avg_train_loss=2.8124056946052574, cur_val_loss=3.1175994873046875\n",
      "epoch=7: cur_avg_train_loss=2.738391508623895, cur_val_loss=3.0257816314697266\n",
      "epoch=8: cur_avg_train_loss=2.683110358943277, cur_val_loss=2.9586124420166016\n",
      "epoch=9: cur_avg_train_loss=2.6383232228969957, cur_val_loss=2.9014360904693604\n",
      "epoch=10: cur_avg_train_loss=2.6007283093802225, cur_val_loss=2.8540704250335693\n",
      "epoch=11: cur_avg_train_loss=2.570031130318053, cur_val_loss=2.818117380142212\n",
      "epoch=12: cur_avg_train_loss=2.5465617150820656, cur_val_loss=2.7925784587860107\n",
      "epoch=13: cur_avg_train_loss=2.5285574287008936, cur_val_loss=2.7658514976501465\n",
      "epoch=14: cur_avg_train_loss=2.513990740914833, cur_val_loss=2.751096725463867\n",
      "epoch=15: cur_avg_train_loss=2.5016170564155926, cur_val_loss=2.740208387374878\n",
      "epoch=16: cur_avg_train_loss=2.4909939986417204, cur_val_loss=2.7179524898529053\n",
      "epoch=17: cur_avg_train_loss=2.4817646253451726, cur_val_loss=2.7098541259765625\n",
      "epoch=18: cur_avg_train_loss=2.473352089252579, cur_val_loss=2.7008960247039795\n",
      "epoch=19: cur_avg_train_loss=2.4658872648592918, cur_val_loss=2.6884450912475586\n",
      "epoch=20: cur_avg_train_loss=2.4591955517903283, cur_val_loss=2.6830251216888428\n",
      "epoch=21: cur_avg_train_loss=2.4531529326759918, cur_val_loss=2.6722681522369385\n",
      "epoch=22: cur_avg_train_loss=2.447553638948799, cur_val_loss=2.6668457984924316\n",
      "epoch=23: cur_avg_train_loss=2.44237210663221, cur_val_loss=2.6574134826660156\n",
      "epoch=24: cur_avg_train_loss=2.4378227046253302, cur_val_loss=2.654723644256592\n",
      "epoch=25: cur_avg_train_loss=2.433340782035785, cur_val_loss=2.6496217250823975\n",
      "epoch=26: cur_avg_train_loss=2.429465722402383, cur_val_loss=2.6432528495788574\n",
      "epoch=27: cur_avg_train_loss=2.425976234055836, cur_val_loss=2.6381661891937256\n",
      "epoch=28: cur_avg_train_loss=2.422582991180881, cur_val_loss=2.633805274963379\n",
      "epoch=29: cur_avg_train_loss=2.419296364442329, cur_val_loss=2.6349387168884277\n",
      "epoch=30: cur_avg_train_loss=2.416326199599436, cur_val_loss=2.6308937072753906\n",
      "epoch=31: cur_avg_train_loss=2.4135088276687546, cur_val_loss=2.62304425239563\n",
      "epoch=32: cur_avg_train_loss=2.4108446763533196, cur_val_loss=2.6232168674468994\n",
      "epoch=33: cur_avg_train_loss=2.4082241782717415, cur_val_loss=2.618584156036377\n",
      "epoch=34: cur_avg_train_loss=2.4058356181643954, cur_val_loss=2.6179678440093994\n",
      "epoch=35: cur_avg_train_loss=2.4034637437838158, cur_val_loss=2.6114842891693115\n",
      "epoch=36: cur_avg_train_loss=2.401287703619431, cur_val_loss=2.610825538635254\n",
      "epoch=37: cur_avg_train_loss=2.3992558181662043, cur_val_loss=2.60967755317688\n",
      "epoch=38: cur_avg_train_loss=2.3970875675263614, cur_val_loss=2.6067283153533936\n",
      "epoch=39: cur_avg_train_loss=2.3951013200246267, cur_val_loss=2.603515386581421\n"
     ]
    }
   ],
   "source": [
    "train_loss, val_loss = train(model, train_X, train_y, val_X, val_y, epoches=40, batch_size=32)"
   ]
  },
  {
   "cell_type": "code",
   "execution_count": 133,
   "id": "45107f62",
   "metadata": {},
   "outputs": [
    {
     "data": {
      "text/plain": [
       "<matplotlib.legend.Legend at 0x7fa6651f8970>"
      ]
     },
     "execution_count": 133,
     "metadata": {},
     "output_type": "execute_result"
    },
    {
     "data": {
      "image/png": "[encoded data removed]",
      "text/plain": [
       "<Figure size 800x300 with 1 Axes>"
      ]
     },
     "metadata": {},
     "output_type": "display_data"
    }
   ],
   "source": [
    "plt.figure(figsize=(8,3))\n",
    "plt.plot(np.array(train_loss), label = 'train loss')\n",
    "plt.plot(np.array(val_loss), label = 'validation loss')\n",
    "plt.legend()"
   ]
  },
  {
   "cell_type": "code",
   "execution_count": 134,
   "id": "01d9622b",
   "metadata": {},
   "outputs": [],
   "source": [
    "def evaluate(model, max_new_tokens=100):\n",
    "    result = []\n",
    "    for t in range(max_new_tokens):\n",
    "        context = torch.zeros((1, block_size)).to(torch.int64)\n",
    "        next_token = torch.multinomial(model(context), 1)\n",
    "        result.append(next_token)\n",
    "        if next_token == 0:\n",
    "            break\n",
    "        context.roll(-1, dims=1)\n",
    "        context[0, -1] = next_token\n",
    "    return result"
   ]
  },
  {
   "cell_type": "code",
   "execution_count": 135,
   "id": "8c4f5667",
   "metadata": {},
   "outputs": [
    {
     "data": {
      "text/plain": [
       "'oceatrmkmfjhanmzavymjmsnljsysmaasrjmellenejeccnlrrrnbrmcfpkarjoyaltbsyjrjbjmakmsslalfnjmaaaahcajctaj'"
      ]
     },
     "execution_count": 135,
     "metadata": {},
     "output_type": "execute_result"
    }
   ],
   "source": [
    "''.join(decode(evaluate(model)))"
   ]
  },
  {
   "cell_type": "code",
   "execution_count": 141,
   "id": "4f2980ac",
   "metadata": {},
   "outputs": [
    {
     "name": "stdout",
     "output_type": "stream",
     "text": [
      "lla => .\n",
      "... => a\n",
      "..a => v\n",
      ".av => e\n",
      "ave => r\n",
      "ver => y\n",
      "ery => .\n",
      "... => s\n",
      "..s => o\n",
      ".so => f\n",
      "sof => i\n",
      "ofi => a\n",
      "fia => .\n",
      "... => c\n",
      "..c => a\n",
      ".ca => m\n",
      "cam => i\n",
      "ami => l\n",
      "mil => a\n",
      "ila => .\n",
      "... => a\n",
      "..a => r\n",
      ".ar => i\n",
      "ari => a\n",
      "ria => .\n",
      "... => s\n",
      "..s => c\n",
      ".sc => a\n",
      "sca => r\n",
      "car => l\n",
      "arl => e\n",
      "rle => t\n",
      "let => t\n",
      "ett => .\n",
      "... => v\n",
      "..v => i\n",
      ".vi => c\n",
      "vic => t\n",
      "ict => o\n",
      "cto => r\n",
      "tor => i\n",
      "ori => a\n",
      "ria => .\n",
      "... => m\n",
      "..m => a\n",
      ".ma => d\n",
      "mad => i\n",
      "adi => s\n",
      "dis => o\n",
      "iso => n\n",
      "son => .\n",
      "... => l\n",
      "..l => u\n",
      ".lu => n\n",
      "lun => a\n",
      "una => .\n",
      "... => g\n",
      "..g => r\n",
      ".gr => a\n",
      "gra => c\n",
      "rac => e\n",
      "ace => .\n",
      "... => c\n",
      "..c => h\n",
      ".ch => l\n",
      "chl => o\n",
      "hlo => e\n",
      "loe => .\n",
      "... => p\n",
      "..p => e\n",
      ".pe => n\n",
      "pen => e\n",
      "ene => l\n",
      "nel => o\n",
      "elo => p\n",
      "lop => e\n",
      "ope => .\n",
      "... => l\n",
      "..l => a\n",
      ".la => y\n",
      "lay => l\n",
      "ayl => a\n",
      "yla => .\n",
      "... => r\n",
      "..r => i\n",
      ".ri => l\n",
      "ril => e\n",
      "ile => y\n",
      "ley => .\n",
      "... => z\n",
      "..z => o\n",
      ".zo => e\n",
      "zoe => y\n",
      "oey => .\n",
      "... => n\n",
      "..n => o\n",
      ".no => r\n",
      "nor => a\n",
      "ora => .\n",
      "... => l\n"
     ]
    }
   ],
   "source": [
    "for i in range(100,200):\n",
    "    print(f\"{''.join(decode(X[i]))} => {itoc[y[i]]}\")"
   ]
  }
 ],
 "metadata": {
  "kernelspec": {
   "display_name": "Python 3 (ipykernel)",
   "language": "python",
   "name": "python3"
  },
  "language_info": {
   "codemirror_mode": {
    "name": "ipython",
    "version": 3
   },
   "file_extension": ".py",
   "mimetype": "text/x-python",
   "name": "python",
   "nbconvert_exporter": "python",
   "pygments_lexer": "ipython3",
   "version": "3.10.6"
  }
 },
 "nbformat": 4,
 "nbformat_minor": 5
}
